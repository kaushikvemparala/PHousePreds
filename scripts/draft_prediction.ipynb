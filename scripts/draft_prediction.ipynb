{
 "cells": [
  {
   "cell_type": "markdown",
   "id": "a6563fec",
   "metadata": {},
   "source": [
    "# Lets get dis money"
   ]
  },
  {
   "cell_type": "markdown",
   "id": "483a2ea1",
   "metadata": {},
   "source": [
    "add ur data to the data folder and add any things u have been doing here"
   ]
  },
  {
   "cell_type": "code",
   "execution_count": null,
   "id": "f0f7f1c4",
   "metadata": {},
   "outputs": [],
   "source": []
  }
 ],
 "metadata": {
  "kernelspec": {
   "display_name": "Python 3 (ipykernel)",
   "language": "python",
   "name": "python3"
  },
  "language_info": {
   "codemirror_mode": {
    "name": "ipython",
    "version": 3
   },
   "file_extension": ".py",
   "mimetype": "text/x-python",
   "name": "python",
   "nbconvert_exporter": "python",
   "pygments_lexer": "ipython3",
   "version": "3.9.13"
  }
 },
 "nbformat": 4,
 "nbformat_minor": 5
}
